{
 "cells": [
  {
   "cell_type": "code",
   "execution_count": 1,
   "id": "376da517",
   "metadata": {},
   "outputs": [],
   "source": [
    "import numpy as np\n",
    "import matplotlib.pyplot as plt\n",
    "import cv2\n",
    "import os\n",
    "import tensorflow as tf\n",
    "from PIL import Image\n",
    "from sklearn.model_selection import train_test_split\n",
    "from sklearn.metrics import classification_report\n",
    "from tqdm import tqdm"
   ]
  },
  {
   "cell_type": "code",
   "execution_count": 2,
   "id": "bcb5f356",
   "metadata": {},
   "outputs": [],
   "source": [
    "image_dir = 'D:/3rd_SEM/Deep Learning/MultiClass/cropped'\n",
    "messi=os.listdir(image_dir+ '//lionel_messi')\n",
    "maria=os.listdir(image_dir+ '//maria_sharapova')\n",
    "roger=os.listdir(image_dir+ '//roger_federer')\n",
    "serena=os.listdir(image_dir+ '//serena_williams')\n",
    "virat=os.listdir(image_dir+ '//virat_kohli')"
   ]
  },
  {
   "cell_type": "code",
   "execution_count": 3,
   "id": "f4d704b7",
   "metadata": {},
   "outputs": [],
   "source": [
    "# Initialize lists for dataset and labels\n",
    "dataset = []\n",
    "label = []\n",
    "img_size = (128, 128)"
   ]
  },
  {
   "cell_type": "code",
   "execution_count": 4,
   "id": "7921052f",
   "metadata": {},
   "outputs": [
    {
     "name": "stderr",
     "output_type": "stream",
     "text": [
      "lionel_messi: 36it [00:00, 237.86it/s]\n"
     ]
    }
   ],
   "source": [
    "for i, image_name in tqdm(enumerate(messi), desc=\"lionel_messi\"):\n",
    "     if image_name.endswith('.jpg') or image_name.endswith('.png'):\n",
    "        image=cv2.imread(image_dir+'/lionel_messi/'+image_name)\n",
    "        if image is not None:\n",
    "            image = Image.fromarray(image, 'RGB')\n",
    "            image = image.resize(img_size)\n",
    "            dataset.append(np.array(image))\n",
    "            label.append(0)"
   ]
  },
  {
   "cell_type": "code",
   "execution_count": 5,
   "id": "efee6e35",
   "metadata": {},
   "outputs": [
    {
     "name": "stderr",
     "output_type": "stream",
     "text": [
      "maria_sharapova: 34it [00:00, 319.93it/s]\n"
     ]
    }
   ],
   "source": [
    "for i, image_name in tqdm(enumerate(maria), desc=\"maria_sharapova\"):\n",
    "     if image_name.endswith('.jpg') or image_name.endswith('.png'): \n",
    "        image=cv2.imread(image_dir+'/maria_sharapova/'+image_name)\n",
    "        if image is not None:\n",
    "            image = Image.fromarray(image, 'RGB')\n",
    "            image = image.resize(img_size)\n",
    "            dataset.append(np.array(image))\n",
    "            label.append(1)"
   ]
  },
  {
   "cell_type": "code",
   "execution_count": 6,
   "id": "0dc0492f",
   "metadata": {},
   "outputs": [
    {
     "name": "stderr",
     "output_type": "stream",
     "text": [
      "roger_federer: 28it [00:00, 519.22it/s]\n"
     ]
    }
   ],
   "source": [
    "for i, image_name in tqdm(enumerate(roger), desc=\"roger_federer\"):\n",
    "     if image_name.endswith('.jpg') or image_name.endswith('.png'):\n",
    "        image=cv2.imread(image_dir+'/roger_federer/'+image_name)\n",
    "        if image is not None:\n",
    "            image = Image.fromarray(image, 'RGB')\n",
    "            image = image.resize(img_size)\n",
    "            dataset.append(np.array(image))\n",
    "            label.append(2)"
   ]
  },
  {
   "cell_type": "code",
   "execution_count": 7,
   "id": "f472c122",
   "metadata": {},
   "outputs": [
    {
     "name": "stderr",
     "output_type": "stream",
     "text": [
      "serena_williams: 29it [00:00, 382.01it/s]\n"
     ]
    }
   ],
   "source": [
    "for i, image_name in tqdm(enumerate(serena), desc=\"serena_williams\"):\n",
    "     if image_name.endswith('.jpg') or image_name.endswith('.png'):\n",
    "        image=cv2.imread(image_dir+'/serena_williams/'+image_name)\n",
    "        if image is not None:\n",
    "            image = Image.fromarray(image, 'RGB')\n",
    "            image = image.resize(img_size)\n",
    "            dataset.append(np.array(image))\n",
    "            label.append(3)"
   ]
  },
  {
   "cell_type": "code",
   "execution_count": 8,
   "id": "a17142a2",
   "metadata": {},
   "outputs": [
    {
     "name": "stderr",
     "output_type": "stream",
     "text": [
      "virat_kohli: 41it [00:00, 653.28it/s]\n"
     ]
    }
   ],
   "source": [
    "for i, image_name in tqdm(enumerate(virat), desc=\"virat_kohli\"):\n",
    "     if image_name.endswith('.jpg') or image_name.endswith('.png'): \n",
    "        image=cv2.imread(image_dir+'/virat_kohli/'+image_name)\n",
    "        if image is not None:\n",
    "            image = Image.fromarray(image, 'RGB')\n",
    "            image = image.resize(img_size)\n",
    "            dataset.append(np.array(image))\n",
    "            label.append(4)"
   ]
  },
  {
   "cell_type": "code",
   "execution_count": 9,
   "id": "c58a48cf",
   "metadata": {},
   "outputs": [],
   "source": [
    "# Convert lists to numpy arrays\n",
    "dataset = np.array(dataset)\n",
    "label = np.array(label)"
   ]
  },
  {
   "cell_type": "code",
   "execution_count": 10,
   "id": "0e9e085c",
   "metadata": {},
   "outputs": [
    {
     "name": "stdout",
     "output_type": "stream",
     "text": [
      "Dataset Length:  168\n",
      "Label Length:  168\n"
     ]
    }
   ],
   "source": [
    "print('Dataset Length: ', len(dataset))\n",
    "print('Label Length: ', len(label))"
   ]
  },
  {
   "cell_type": "code",
   "execution_count": 11,
   "id": "c6fe657a",
   "metadata": {},
   "outputs": [],
   "source": [
    "# Check if the dataset is not empty before proceeding\n",
    "if len(dataset) == 0:\n",
    "    print(\"Error: Dataset is empty. Please check the directory structure and image loading.\")\n",
    "    exit()"
   ]
  },
  {
   "cell_type": "code",
   "execution_count": 12,
   "id": "ee82247b",
   "metadata": {},
   "outputs": [],
   "source": [
    "x_train, x_test, y_train, y_test = train_test_split(dataset, label, test_size=0.2, random_state=42)"
   ]
  },
  {
   "cell_type": "code",
   "execution_count": 13,
   "id": "b9031d79",
   "metadata": {},
   "outputs": [],
   "source": [
    "#Normalizing the Dataset\n",
    "\n",
    "x_train = tf.keras.utils.normalize(x_train, axis=1)\n",
    "x_test = tf.keras.utils.normalize(x_test, axis=1)"
   ]
  },
  {
   "cell_type": "code",
   "execution_count": 14,
   "id": "218addca",
   "metadata": {},
   "outputs": [],
   "source": [
    "model = tf.keras.models.Sequential([\n",
    "    tf.keras.layers.Conv2D(32, (3, 3), activation='relu', input_shape=(128, 128, 3)),\n",
    "    tf.keras.layers.MaxPooling2D((2, 2)),\n",
    "    tf.keras.layers.Flatten(),\n",
    "    tf.keras.layers.Dense(256, activation='relu'),\n",
    "    tf.keras.layers.Dropout(0.5),\n",
    "    tf.keras.layers.Dense(512, activation='relu'),\n",
    "    tf.keras.layers.Dense(5, activation='softmax') # Use softmax for multi-class classification\n",
    "])"
   ]
  },
  {
   "cell_type": "code",
   "execution_count": 15,
   "id": "d1e07e1e",
   "metadata": {},
   "outputs": [
    {
     "name": "stdout",
     "output_type": "stream",
     "text": [
      "Model: \"sequential\"\n",
      "_________________________________________________________________\n",
      " Layer (type)                Output Shape              Param #   \n",
      "=================================================================\n",
      " conv2d (Conv2D)             (None, 126, 126, 32)      896       \n",
      "                                                                 \n",
      " max_pooling2d (MaxPooling2  (None, 63, 63, 32)        0         \n",
      " D)                                                              \n",
      "                                                                 \n",
      " flatten (Flatten)           (None, 127008)            0         \n",
      "                                                                 \n",
      " dense (Dense)               (None, 256)               32514304  \n",
      "                                                                 \n",
      " dropout (Dropout)           (None, 256)               0         \n",
      "                                                                 \n",
      " dense_1 (Dense)             (None, 512)               131584    \n",
      "                                                                 \n",
      " dense_2 (Dense)             (None, 5)                 2565      \n",
      "                                                                 \n",
      "=================================================================\n",
      "Total params: 32649349 (124.55 MB)\n",
      "Trainable params: 32649349 (124.55 MB)\n",
      "Non-trainable params: 0 (0.00 Byte)\n",
      "_________________________________________________________________\n"
     ]
    }
   ],
   "source": [
    "model.summary()"
   ]
  },
  {
   "cell_type": "code",
   "execution_count": 16,
   "id": "a1391b6c",
   "metadata": {},
   "outputs": [],
   "source": [
    "model.compile(optimizer='adam',\n",
    "              loss='sparse_categorical_crossentropy',  # Use sparse categorical crossentropy for multi-class\n",
    "              metrics=['accuracy'])"
   ]
  },
  {
   "cell_type": "code",
   "execution_count": 17,
   "id": "15426a01",
   "metadata": {},
   "outputs": [
    {
     "name": "stdout",
     "output_type": "stream",
     "text": [
      "Training Started.\n",
      "\n",
      "Epoch 1/20\n",
      "1/1 [==============================] - 2s 2s/step - loss: 1.6107 - accuracy: 0.1667 - val_loss: 2.6044 - val_accuracy: 0.1429\n",
      "Epoch 2/20\n",
      "1/1 [==============================] - 2s 2s/step - loss: 1.7430 - accuracy: 0.3083 - val_loss: 1.5209 - val_accuracy: 0.2857\n",
      "Epoch 3/20\n",
      "1/1 [==============================] - 1s 1s/step - loss: 1.9214 - accuracy: 0.2333 - val_loss: 1.6288 - val_accuracy: 0.2857\n",
      "Epoch 4/20\n",
      "1/1 [==============================] - 2s 2s/step - loss: 1.5988 - accuracy: 0.2417 - val_loss: 2.0076 - val_accuracy: 0.1429\n",
      "Epoch 5/20\n",
      "1/1 [==============================] - 2s 2s/step - loss: 1.5963 - accuracy: 0.2667 - val_loss: 1.9138 - val_accuracy: 0.1429\n",
      "Epoch 6/20\n",
      "1/1 [==============================] - 1s 1s/step - loss: 1.4231 - accuracy: 0.4250 - val_loss: 1.6971 - val_accuracy: 0.1429\n",
      "Epoch 7/20\n",
      "1/1 [==============================] - 2s 2s/step - loss: 1.3308 - accuracy: 0.4667 - val_loss: 1.5028 - val_accuracy: 0.2857\n",
      "Epoch 8/20\n",
      "1/1 [==============================] - 1s 1s/step - loss: 1.3036 - accuracy: 0.5750 - val_loss: 1.3979 - val_accuracy: 0.6429\n",
      "Epoch 9/20\n",
      "1/1 [==============================] - 1s 1s/step - loss: 1.2835 - accuracy: 0.6000 - val_loss: 1.3772 - val_accuracy: 0.4286\n",
      "Epoch 10/20\n",
      "1/1 [==============================] - 2s 2s/step - loss: 1.2114 - accuracy: 0.6667 - val_loss: 1.3980 - val_accuracy: 0.2857\n",
      "Epoch 11/20\n",
      "1/1 [==============================] - 2s 2s/step - loss: 1.1090 - accuracy: 0.7167 - val_loss: 1.4467 - val_accuracy: 0.2857\n",
      "Epoch 12/20\n",
      "1/1 [==============================] - 2s 2s/step - loss: 1.0428 - accuracy: 0.7083 - val_loss: 1.4002 - val_accuracy: 0.2143\n",
      "Epoch 13/20\n",
      "1/1 [==============================] - 2s 2s/step - loss: 0.9703 - accuracy: 0.7000 - val_loss: 1.2856 - val_accuracy: 0.4286\n",
      "Epoch 14/20\n",
      "1/1 [==============================] - 2s 2s/step - loss: 0.8887 - accuracy: 0.6750 - val_loss: 1.1407 - val_accuracy: 0.5000\n",
      "Epoch 15/20\n",
      "1/1 [==============================] - 2s 2s/step - loss: 0.7561 - accuracy: 0.8000 - val_loss: 0.9620 - val_accuracy: 0.7143\n",
      "Epoch 16/20\n",
      "1/1 [==============================] - 2s 2s/step - loss: 0.6372 - accuracy: 0.8917 - val_loss: 0.8548 - val_accuracy: 0.7857\n",
      "Epoch 17/20\n",
      "1/1 [==============================] - 2s 2s/step - loss: 0.5739 - accuracy: 0.8917 - val_loss: 0.8108 - val_accuracy: 0.7857\n",
      "Epoch 18/20\n",
      "1/1 [==============================] - 2s 2s/step - loss: 0.4538 - accuracy: 0.8833 - val_loss: 0.8000 - val_accuracy: 0.7143\n",
      "Epoch 19/20\n",
      "1/1 [==============================] - 2s 2s/step - loss: 0.4155 - accuracy: 0.9000 - val_loss: 0.7121 - val_accuracy: 0.5714\n",
      "Epoch 20/20\n",
      "1/1 [==============================] - 2s 2s/step - loss: 0.3126 - accuracy: 0.9333 - val_loss: 0.6196 - val_accuracy: 0.7857\n",
      "Training Finished.\n",
      "\n"
     ]
    }
   ],
   "source": [
    "print(\"Training Started.\\n\")\n",
    "history = model.fit(x_train, y_train, epochs=20, batch_size=128, validation_split=0.1)\n",
    "print(\"Training Finished.\\n\")"
   ]
  },
  {
   "cell_type": "code",
   "execution_count": 18,
   "id": "25556168",
   "metadata": {},
   "outputs": [
    {
     "name": "stdout",
     "output_type": "stream",
     "text": [
      "Model Evalutaion Phase.\n",
      "\n",
      "2/2 [==============================] - 0s 23ms/step - loss: 0.7088 - accuracy: 0.7353\n",
      "Accuracy on the test set: 73.53%\n"
     ]
    }
   ],
   "source": [
    "# Evaluate the model on the test set\n",
    "print(\"Model Evalutaion Phase.\\n\")\n",
    "loss,accuracy=model.evaluate(x_test,y_test)\n",
    "print(f'Accuracy on the test set: {round(accuracy * 100, 2)}%')"
   ]
  },
  {
   "cell_type": "code",
   "execution_count": 19,
   "id": "f3e61f39",
   "metadata": {},
   "outputs": [
    {
     "name": "stdout",
     "output_type": "stream",
     "text": [
      "2/2 [==============================] - 0s 14ms/step\n",
      "classification Report\n",
      "               precision    recall  f1-score   support\n",
      "\n",
      "           0       0.83      0.50      0.62        10\n",
      "           1       1.00      0.86      0.92         7\n",
      "           2       0.75      0.75      0.75         4\n",
      "           3       0.67      0.67      0.67         6\n",
      "           4       0.58      1.00      0.74         7\n",
      "\n",
      "    accuracy                           0.74        34\n",
      "   macro avg       0.77      0.75      0.74        34\n",
      "weighted avg       0.78      0.74      0.73        34\n",
      "\n"
     ]
    }
   ],
   "source": [
    "y_pred=model.predict(x_test)\n",
    "y_pred = np.argmax(y_pred,axis=1)\n",
    "print('classification Report\\n',classification_report(y_test,y_pred))"
   ]
  },
  {
   "cell_type": "code",
   "execution_count": 20,
   "id": "96441150",
   "metadata": {},
   "outputs": [
    {
     "name": "stdout",
     "output_type": "stream",
     "text": [
      "Model Prediction.\n",
      "\n",
      "1/1 [==============================] - 0s 124ms/step\n",
      "Predicted class: Virat kohli\n",
      "1/1 [==============================] - 0s 47ms/step\n",
      "Predicted class: Maria Sharapova\n"
     ]
    }
   ],
   "source": [
    "print(\"Model Prediction.\\n\")\n",
    "\n",
    "def make_prediction(img, model):\n",
    "    img = cv2.imread(img)\n",
    "    img = Image.fromarray(img)\n",
    "    img = img.resize((128, 128))\n",
    "    img = np.array(img)\n",
    "    input_img = np.expand_dims(img, axis=0)\n",
    "    res = model.predict(input_img)\n",
    "    predicted_class = np.argmax(res)\n",
    "    print(f'Predicted class: {classes[predicted_class]}')\n",
    "    \n",
    "classes = ['lionel Messi', 'Maria Sharapova', 'Roger Federer', 'serena williams', 'Virat kohli']\n",
    "make_prediction(r'D:\\3rd_SEM\\Deep Learning\\MultiClass\\cropped\\virat_kohli\\virat_kohli31.png', model)\n",
    "make_prediction(r'D:\\3rd_SEM\\Deep Learning\\MultiClass\\cropped\\maria_sharapova\\maria_sharapova14.png',model)"
   ]
  },
  {
   "cell_type": "code",
   "execution_count": null,
   "id": "ab909969",
   "metadata": {},
   "outputs": [],
   "source": []
  }
 ],
 "metadata": {
  "kernelspec": {
   "display_name": "Python 3 (ipykernel)",
   "language": "python",
   "name": "python3"
  },
  "language_info": {
   "codemirror_mode": {
    "name": "ipython",
    "version": 3
   },
   "file_extension": ".py",
   "mimetype": "text/x-python",
   "name": "python",
   "nbconvert_exporter": "python",
   "pygments_lexer": "ipython3",
   "version": "3.9.12"
  }
 },
 "nbformat": 4,
 "nbformat_minor": 5
}
